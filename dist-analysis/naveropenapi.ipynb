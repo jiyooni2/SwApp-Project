{
 "cells": [
  {
   "cell_type": "code",
   "execution_count": 73,
   "id": "70de24f1",
   "metadata": {
    "ExecuteTime": {
     "end_time": "2021-10-22T15:30:22.002505Z",
     "start_time": "2021-10-22T15:30:21.984501Z"
    }
   },
   "outputs": [],
   "source": [
    "def open_api(address):\n",
    "    #address 넣으면 tuple(x,y) return\n",
    "    import os\n",
    "    import sys\n",
    "    import urllib.request\n",
    "    import json\n",
    "\n",
    "    client_id=\"gryuyvyr2r\"\n",
    "    client_secret=\"QkkL7gWgeTAy8SeCwho8kz7HXsNw1tfahVchHod4\"\n",
    "    #client_id, client_secret 발급받아서 수정!!!!!\n",
    "    encAdd=urllib.parse.quote_plus(address)\n",
    "\n",
    "    url = \"https://naveropenapi.apigw.ntruss.com/map-geocode/v2/geocode?query=%s\"%(encAdd)\n",
    "\n",
    "\n",
    "    request = urllib.request.Request(url)\n",
    "    request.add_header(\"X-NCP-APIGW-API-KEY-ID\", client_id)\n",
    "    request.add_header(\"X-NCP-APIGW-API-KEY\", client_secret)\n",
    "    response = urllib.request.urlopen(request)\n",
    "    rescode = response.getcode()\n",
    "\n",
    "    if(rescode == 200):\n",
    "        response_body = response.read()\n",
    "        data=json.loads(response_body)\n",
    "        return (data['addresses'][0]['x'],data['addresses'][0]['y'])\n",
    "    else:\n",
    "        print(\"Error Code:\" + rescode)\n",
    "        print(\"Error address : \",address)\n"
   ]
  },
  {
   "cell_type": "code",
   "execution_count": 52,
   "id": "56eeebe0",
   "metadata": {
    "ExecuteTime": {
     "end_time": "2021-10-22T15:15:13.740514Z",
     "start_time": "2021-10-22T15:15:13.395427Z"
    }
   },
   "outputs": [],
   "source": [
    "import csv\n",
    "with open(\"C:\\\\Users\\\\kjy77\\\\Downloads\\\\apart_trade20_10_21_09.csv\", 'r', encoding='CP949') as trade_file:\n",
    "    # 여기 csv파일 경로 바꾸어주세요!\n",
    "    data_lines = csv.reader(trade_file, delimiter=',')\n",
    "    addr_dict = {}\n",
    "    for idx, data_line in enumerate(data_lines):\n",
    "        if idx > 17:\n",
    "            apt_name = data_line[0].split()[2]+\" \"+data_line[4]            \n",
    "            dorojuso = data_line[0].split()[1]+\" \"+data_line[11]\n",
    "            \n",
    "            if apt_name not in addr_dict:\n",
    "                addr_dict[apt_name]=dorojuso\n",
    "    \n",
    "    apt_list_addr_dict={}\n",
    "    #apt_list file에 있는 아파트들만\n",
    "    with open(\"C:\\\\Users\\\\kjy77\\\\1_Python\\\\apt_list.csv\", \"r\", encoding=\"utf-8-sig\") as apt_file:\n",
    "        \n",
    "        apt_data_lines=csv.reader(apt_file,delimiter=',')\n",
    "        for idx, apt_data_line in enumerate(apt_data_lines):\n",
    "            apt_name_in_apt_file=apt_data_line[0]\n",
    "            apt_list_addr_dict[apt_name_in_apt_file]=addr_dict[apt_name_in_apt_file]\n",
    "            \n",
    "#돌리면 결과물 apt_list에 있는 거 {아파트이름 : 아파트도로명주소} 형태 > apt_list_addr_dict"
   ]
  },
  {
   "cell_type": "code",
   "execution_count": 57,
   "id": "56a03913",
   "metadata": {
    "ExecuteTime": {
     "end_time": "2021-10-22T15:17:00.066230Z",
     "start_time": "2021-10-22T15:17:00.060231Z"
    }
   },
   "outputs": [],
   "source": [
    "length=len(apt_list_addr_dict)"
   ]
  },
  {
   "cell_type": "code",
   "execution_count": 67,
   "id": "63b6a59c",
   "metadata": {
    "ExecuteTime": {
     "end_time": "2021-10-22T15:24:55.261425Z",
     "start_time": "2021-10-22T15:24:55.243326Z"
    }
   },
   "outputs": [],
   "source": [
    "xy_dict={}\n",
    "error_list=[]"
   ]
  },
  {
   "cell_type": "code",
   "execution_count": null,
   "id": "2e58ade3",
   "metadata": {
    "ExecuteTime": {
     "end_time": "2021-10-22T15:28:24.420972Z",
     "start_time": "2021-10-22T15:24:56.884252Z"
    }
   },
   "outputs": [],
   "source": [
    "for idx,key in enumerate(apt_list_addr_dict):\n",
    "    #수행 후에는 Failed랑 error_list 한번 보기\n",
    "    try:\n",
    "        addr=apt_list_addr_dict[key]\n",
    "        xy=open_api(addr)\n",
    "        xy_dict[key]=xy\n",
    "        print(idx,\"/\",length,key,\"SUCCESS\")\n",
    "    except:\n",
    "        error_list.append(key)"
   ]
  },
  {
   "cell_type": "code",
   "execution_count": null,
   "id": "d72cb6a2",
   "metadata": {
    "ExecuteTime": {
     "end_time": "2021-10-22T15:29:26.138767Z",
     "start_time": "2021-10-22T15:29:26.117769Z"
    }
   },
   "outputs": [],
   "source": [
    "apt_list_addr_dict[error_list[0]]"
   ]
  },
  {
   "cell_type": "code",
   "execution_count": 75,
   "id": "92855017",
   "metadata": {
    "ExecuteTime": {
     "end_time": "2021-10-22T15:33:51.850687Z",
     "start_time": "2021-10-22T15:33:51.840680Z"
    }
   },
   "outputs": [],
   "source": [
    "coord_file=open(\"coordlist.csv\",'w',encoding='utf-8-sig',newline='')\n",
    "coord_write=csv.writer(coord_file,delimiter=',')    "
   ]
  },
  {
   "cell_type": "code",
   "execution_count": 77,
   "id": "aaca26e2",
   "metadata": {
    "ExecuteTime": {
     "end_time": "2021-10-22T15:34:23.399145Z",
     "start_time": "2021-10-22T15:34:23.378109Z"
    }
   },
   "outputs": [],
   "source": [
    "for key in xy_dict:\n",
    "    coord_write.writerow([key,xy_dict[key]])\n"
   ]
  }
 ],
 "metadata": {
  "kernelspec": {
   "display_name": "Python 3",
   "language": "python",
   "name": "python3"
  },
  "language_info": {
   "codemirror_mode": {
    "name": "ipython",
    "version": 3
   },
   "file_extension": ".py",
   "mimetype": "text/x-python",
   "name": "python",
   "nbconvert_exporter": "python",
   "pygments_lexer": "ipython3",
   "version": "3.8.8"
  },
  "toc": {
   "base_numbering": 1,
   "nav_menu": {},
   "number_sections": true,
   "sideBar": true,
   "skip_h1_title": false,
   "title_cell": "Table of Contents",
   "title_sidebar": "Contents",
   "toc_cell": false,
   "toc_position": {},
   "toc_section_display": true,
   "toc_window_display": false
  },
  "varInspector": {
   "cols": {
    "lenName": 16,
    "lenType": 16,
    "lenVar": 40
   },
   "kernels_config": {
    "python": {
     "delete_cmd_postfix": "",
     "delete_cmd_prefix": "del ",
     "library": "var_list.py",
     "varRefreshCmd": "print(var_dic_list())"
    },
    "r": {
     "delete_cmd_postfix": ") ",
     "delete_cmd_prefix": "rm(",
     "library": "var_list.r",
     "varRefreshCmd": "cat(var_dic_list()) "
    }
   },
   "types_to_exclude": [
    "module",
    "function",
    "builtin_function_or_method",
    "instance",
    "_Feature"
   ],
   "window_display": false
  }
 },
 "nbformat": 4,
 "nbformat_minor": 5
}
