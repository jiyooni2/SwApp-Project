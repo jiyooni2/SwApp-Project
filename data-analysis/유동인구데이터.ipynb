{
 "cells": [
  {
   "cell_type": "code",
   "execution_count": 284,
   "id": "70efa903",
   "metadata": {
    "ExecuteTime": {
     "end_time": "2021-10-17T09:37:25.677043Z",
     "start_time": "2021-10-17T09:37:25.672050Z"
    }
   },
   "outputs": [],
   "source": [
    "def time_writer(filename, dictionary, year, month, mode):\n",
    "    with open(filename, mode, encodinga='utf-8-sig', newline='') as writer_csv:\n",
    "        field_name_list = [\"code\", \"population\", \"year\", \"month\"]\n",
    "        writer = csv.DictWriter(\n",
    "            writer_csv, fieldnames=field_name_list, delimiter=',')\n",
    "        if mode=='w':\n",
    "            writer.writeheader()\n",
    "            \n",
    "        for key in dictionary:\n",
    "            writer.writerow(\n",
    "                {'code': key, 'population': dictionary[key], \"year\": year, \"month\": month})\n",
    "\n",
    "    # 왜안닫히지?\n",
    "    writer_csv.close()"
   ]
  },
  {
   "cell_type": "code",
   "execution_count": 247,
   "id": "44f1e831",
   "metadata": {
    "ExecuteTime": {
     "end_time": "2021-10-17T09:27:38.085434Z",
     "start_time": "2021-10-17T09:27:38.070413Z"
    }
   },
   "outputs": [],
   "source": [
    "import datetime\n",
    "def weekend_checker(tmp):\n",
    "    d=datetime.datetime.strptime(tmp,'%Y%m%d')\n",
    "    if d.weekday()>4:\n",
    "        return True\n",
    "    else:\n",
    "        return False"
   ]
  },
  {
   "cell_type": "code",
   "execution_count": 248,
   "id": "530cc029",
   "metadata": {
    "ExecuteTime": {
     "end_time": "2021-10-17T09:27:38.321908Z",
     "start_time": "2021-10-17T09:27:38.305904Z"
    }
   },
   "outputs": [],
   "source": [
    "def insert_dict(local_line, x_dict):\n",
    "    if local_line[2] not in x_dict:\n",
    "        x_dict[local_line[2]] = float(local_line[3])\n",
    "    else:\n",
    "        x_dict[local_line[2]] += float(local_line[3])"
   ]
  },
  {
   "cell_type": "code",
   "execution_count": 249,
   "id": "fe9b4a84",
   "metadata": {
    "ExecuteTime": {
     "end_time": "2021-10-17T09:27:38.589960Z",
     "start_time": "2021-10-17T09:27:38.575900Z"
    }
   },
   "outputs": [],
   "source": [
    "def avg_value(x_dict, data_num):\n",
    "    for key in x_dict:\n",
    "        x_dict[key] = x_dict[key]/float(data_num)"
   ]
  },
  {
   "cell_type": "code",
   "execution_count": 250,
   "id": "a0d5e640",
   "metadata": {
    "ExecuteTime": {
     "end_time": "2021-10-17T09:27:40.228094Z",
     "start_time": "2021-10-17T09:27:40.216089Z"
    }
   },
   "outputs": [],
   "source": [
    "import datetime\n",
    "import calendar\n",
    "def get_last_day(tmp):\n",
    "    d=datetime.datetime.strptime(tmp,'%Y%m%d')\n",
    "    return calendar.monthrange(d.year,d.month)[1]"
   ]
  },
  {
   "cell_type": "code",
   "execution_count": 341,
   "id": "406268b7",
   "metadata": {
    "ExecuteTime": {
     "end_time": "2021-10-17T09:41:06.323256Z",
     "start_time": "2021-10-17T09:41:06.321247Z"
    }
   },
   "outputs": [],
   "source": [
    "file_date=202109"
   ]
  },
  {
   "cell_type": "code",
   "execution_count": 342,
   "id": "846add21",
   "metadata": {
    "ExecuteTime": {
     "end_time": "2021-10-17T09:41:12.940100Z",
     "start_time": "2021-10-17T09:41:07.188071Z"
    }
   },
   "outputs": [],
   "source": [
    "local_file = open(\"LOCAL_PEOPLE/LOCAL_PEOPLE_DONG_\"+str(file_date)+\".csv\",\n",
    "                  'r', encoding='utf-8-sig')\n",
    "local_lines = csv.reader(local_file, delimiter=',')\n",
    "\n",
    "all_dict = {}\n",
    "am_dict = {}\n",
    "pm_dict = {}\n",
    "sleep_dict = {}\n",
    "weekday_dict = {}\n",
    "weekend_dict = {}\n",
    "\n",
    "for idx, local_line in enumerate(local_lines):\n",
    "    if idx == 0:\n",
    "        continue\n",
    "\n",
    "    if weekend_checker(local_line[0]) == True:\n",
    "        insert_dict(local_line, weekend_dict)\n",
    "    else:\n",
    "        insert_dict(local_line, weekday_dict)\n",
    "    if 9 <= int(local_line[1]) and int(local_line[1]) < 18:\n",
    "        insert_dict(local_line, am_dict)\n",
    "    elif 2 <= int(local_line[1]) and int(local_line[1]) < 7:\n",
    "        insert_dict(local_line, sleep_dict)\n",
    "    elif 18 <= int(local_line[1]) or int(local_line[1]) == 0:\n",
    "        insert_dict(local_line, pm_dict)\n",
    "    \n",
    "    insert_dict(local_line,all_dict)\n",
    "\n",
    "        # 총 데이터 수는 dong갯수(424)*한달일수(30or31)*24시간\n",
    "        # 동마다 데이터 수는 30or31 * 24"
   ]
  },
  {
   "cell_type": "code",
   "execution_count": 343,
   "id": "237887a9",
   "metadata": {
    "ExecuteTime": {
     "end_time": "2021-10-17T09:41:12.986725Z",
     "start_time": "2021-10-17T09:41:12.973145Z"
    }
   },
   "outputs": [
    {
     "name": "stdout",
     "output_type": "stream",
     "text": [
      "30\n"
     ]
    }
   ],
   "source": [
    "last_day=get_last_day(str(file_date)+\"01\")\n",
    "print(last_day)\n",
    "avg_value(all_dict,last_day*24)\n",
    "avg_value(am_dict,last_day*9)\n",
    "avg_value(pm_dict,last_day*7)\n",
    "avg_value(sleep_dict,last_day*5)\n",
    "#데이터 갯수로 나눔"
   ]
  },
  {
   "cell_type": "code",
   "execution_count": 344,
   "id": "67c70420",
   "metadata": {
    "ExecuteTime": {
     "end_time": "2021-10-17T09:41:13.034391Z",
     "start_time": "2021-10-17T09:41:13.020780Z"
    }
   },
   "outputs": [
    {
     "name": "stdout",
     "output_type": "stream",
     "text": [
      "9 2021\n"
     ]
    }
   ],
   "source": [
    "d=datetime.datetime.strptime(str(file_date)+\"01\",'%Y%m%d')\n",
    "print(d.month,d.year)"
   ]
  },
  {
   "cell_type": "code",
   "execution_count": 345,
   "id": "c6d53bec",
   "metadata": {
    "ExecuteTime": {
     "end_time": "2021-10-17T09:41:13.097664Z",
     "start_time": "2021-10-17T09:41:13.067365Z"
    }
   },
   "outputs": [],
   "source": [
    "write_mode=\"a\"\n",
    "\n",
    "time_writer(\"population/alltime.csv\",all_dict,d.year,d.month,write_mode)\n",
    "time_writer(\"population/amtime.csv\",am_dict,d.year,d.month,write_mode)\n",
    "time_writer(\"population/pmtime.csv\",pm_dict,d.year,d.month,write_mode)\n",
    "time_writer(\"population/sleeptime.csv\",sleep_dict,d.year,d.month,write_mode)\n",
    "time_writer(\"population/weekday.csv\",weekday_dict,d.year,d.month,write_mode)\n",
    "time_writer(\"population/weekend.csv\",weekend_dict,d.year,d.month,write_mode)"
   ]
  },
  {
   "cell_type": "code",
   "execution_count": null,
   "id": "0d6f6237",
   "metadata": {},
   "outputs": [],
   "source": []
  }
 ],
 "metadata": {
  "kernelspec": {
   "display_name": "Python 3",
   "language": "python",
   "name": "python3"
  },
  "language_info": {
   "codemirror_mode": {
    "name": "ipython",
    "version": 3
   },
   "file_extension": ".py",
   "mimetype": "text/x-python",
   "name": "python",
   "nbconvert_exporter": "python",
   "pygments_lexer": "ipython3",
   "version": "3.8.8"
  },
  "toc": {
   "base_numbering": 1,
   "nav_menu": {},
   "number_sections": true,
   "sideBar": true,
   "skip_h1_title": false,
   "title_cell": "Table of Contents",
   "title_sidebar": "Contents",
   "toc_cell": false,
   "toc_position": {},
   "toc_section_display": true,
   "toc_window_display": false
  },
  "varInspector": {
   "cols": {
    "lenName": 16,
    "lenType": 16,
    "lenVar": 40
   },
   "kernels_config": {
    "python": {
     "delete_cmd_postfix": "",
     "delete_cmd_prefix": "del ",
     "library": "var_list.py",
     "varRefreshCmd": "print(var_dic_list())"
    },
    "r": {
     "delete_cmd_postfix": ") ",
     "delete_cmd_prefix": "rm(",
     "library": "var_list.r",
     "varRefreshCmd": "cat(var_dic_list()) "
    }
   },
   "types_to_exclude": [
    "module",
    "function",
    "builtin_function_or_method",
    "instance",
    "_Feature"
   ],
   "window_display": false
  }
 },
 "nbformat": 4,
 "nbformat_minor": 5
}
